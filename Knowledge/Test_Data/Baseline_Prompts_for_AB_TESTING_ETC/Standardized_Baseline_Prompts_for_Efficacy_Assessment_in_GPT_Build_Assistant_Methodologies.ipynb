{
 "cells": [
  {
   "cell_type": "markdown",
   "metadata": {},
   "source": [
    "# Standardized Baseline Prompts for Efficacy Assessment in GPT Build Assistant Methodologies: A Framework for Comparative Analysis and Inference Testing       \n",
    "\n",
    "### Prompts:\n",
    "```\n",
    "/MAKE me a gpt that takes any input from the user, scans all the text from the users input and replaces all of the spaces with underscores.\n",
    "```\n",
    "\n",
    "https://chat.openai.com/g/g-qXbGxcPSu-spacetounderscoregpt Example of gpt build by CGW using this prompt\n",
    "\n",
    "```User\n",
    "/MAKE me a gpt that finds the latest horse race that the GPT can understand and bet on from the internet using web search, and then it should use code intrepreter after scraping stats about the horses to make its best guess as to what horse will win the race it originally found. This process will be called \"Find me a race\" and should be a process that always returns to the user a horse bet. Please include a slash command to start that process too.\n",
    "```\n",
    "https://chat.openai.com/share/e72028f1-d77f-4cec-91de-d00938608159"
   ]
  },
  {
   "cell_type": "markdown",
   "metadata": {},
   "source": []
  },
  {
   "cell_type": "markdown",
   "metadata": {},
   "source": []
  }
 ],
 "metadata": {
  "language_info": {
   "name": "python"
  }
 },
 "nbformat": 4,
 "nbformat_minor": 2
}
